{
 "cells": [
  {
   "cell_type": "markdown",
   "id": "74cad327-5c73-443e-a369-6604078098d6",
   "metadata": {},
   "source": [
    "# 3.1:  Mean Squared Error (MSE) Function"
   ]
  },
  {
   "cell_type": "markdown",
   "id": "b1189fb2-486c-4a97-9b2d-3656b5676c63",
   "metadata": {},
   "source": [
    "The **error function** or **loss function** measures the difference between the network’s predictions and the actual values (labels). The objective during training is to **minimize the error** so that the network learns to improve its predictions.\n",
    "\n",
    "### MSE Formula\n",
    "For a network that makes a prediction $y_{\\text{pred}}$ and an actual value $y_{\\text{real}}$, the **Mean Squared Error (MSE)** function is defined as:\n",
    "$$\n",
    "\\text{MSE} = \\frac{1}{n} \\sum_{i=1}^{n} (y_{\\text{pred}, i} - y_{\\text{real}, i})^2\n",
    "$$\n",
    "\n",
    "where:\n",
    "\n",
    "- $n$ is the number of examples.\n",
    "- $y_{\\text{pred}, i}$ is the network’s prediction for the $i$-th example.\n",
    "- $y_{\\text{real}, i}$ is the actual value or label corresponding to the $i$-th example.\n",
    "\n",
    "### MSE Calculation Example\n",
    "Suppose we have:\n",
    "\n",
    "- **Network predictions:** $[0.8, 0.6, 0.2]$\n",
    "- **Actual values:** $[1.0, 0.0, 0.0]$\n",
    "\n",
    "To calculate the MSE:\n",
    "\n",
    "1. Calculate the squared difference between each prediction and its corresponding actual value.\n",
    "2. Calculate the average of these values.\n",
    "\n",
    "The MSE in this case would be:\n",
    "$$\n",
    "\\text{MSE} = \\frac{1}{3} \\left((0.8 - 1.0)^2 + (0.6 - 0.0)^2 + (0.2 - 0.0)^2\\right) = 0.2\n",
    "$$\n",
    "\n",
    "### MSE Implementation in Python:"
   ]
  },
  {
   "cell_type": "code",
   "execution_count": 2,
   "id": "094a757a-be8a-47b7-969f-8ada377541a0",
   "metadata": {},
   "outputs": [
    {
     "name": "stdout",
     "output_type": "stream",
     "text": [
      "Mean Squared Error (MSE): 0.14666666666666664\n"
     ]
    }
   ],
   "source": [
    "import numpy as np\n",
    "\n",
    "def mse(y_pred, y_real):\n",
    "    return np.mean((y_pred - y_real) ** 2)\n",
    "\n",
    "y_pred = np.array([0.8, 0.6, 0.2])\n",
    "y_real = np.array([1.0, 0.0, 0.0])\n",
    "\n",
    "error = mse(y_pred, y_real)\n",
    "print(\"Mean Squared Error (MSE):\", error)\n"
   ]
  },
  {
   "cell_type": "markdown",
   "id": "4b226f02-b259-4285-8c65-20f6a590c41a",
   "metadata": {},
   "source": [
    "# 3.2: Cross-Entropy for Classification"
   ]
  },
  {
   "cell_type": "markdown",
   "id": "8831be64-c369-43fd-a455-f819aee452f5",
   "metadata": {},
   "source": [
    "For multiclass classification problems, the **Cross-Entropy** function is an alternative to MSE, especially useful for correctly classifying each class.\n",
    "\n",
    "### Cross-Entropy Formula\n",
    "The cross-entropy between a prediction $y_{\\text{pred}}$ and an actual value $y_{\\text{real}}$ is defined as:\n",
    "$$\n",
    "\\text{Cross-Entropy} = - \\sum_{i=1}^{n} y_{\\text{real}, i} \\cdot \\log(y_{\\text{pred}, i})\n",
    "$$\n",
    "\n",
    "where:\n",
    "\n",
    "- $y_{\\text{pred}, i}$ is the probability predicted by the network for class $i$,\n",
    "- $y_{\\text{real}, i}$ is the actual label of class $i$ (usually 1 for the correct class and 0 for the others).\n",
    "\n",
    "### Cross-Entropy Calculation Example\n",
    "Suppose we have:\n",
    "\n",
    "- **Network predictions:** $[0.7, 0.2, 0.1]$\n",
    "- **Actual values:** $[1, 0, 0]$ (the correct class is the first one).\n",
    "\n",
    "The cross-entropy is calculated as:\n",
    "$$\n",
    "\\text{Cross-Entropy} = - [1 \\cdot \\log(0.7) + 0 \\cdot \\log(0.2) + 0 \\cdot \\log(0.1)] = - \\log(0.7) \\approx 0.357\n",
    "$$\n",
    "\n",
    "### Cross-Entropy Implementation in Python:"
   ]
  },
  {
   "cell_type": "code",
   "execution_count": 3,
   "id": "3f0a204e-ce78-413a-8ad9-8946a03f905d",
   "metadata": {},
   "outputs": [
    {
     "name": "stdout",
     "output_type": "stream",
     "text": [
      "Cross-Entropy: 0.35667494393873245\n"
     ]
    }
   ],
   "source": [
    "import numpy as np\n",
    "\n",
    "# Define the cross-entropy function\n",
    "def cross_entropy(y_pred, y_real):\n",
    "    epsilon = 1e-15  # Avoid log(0)\n",
    "    y_pred = np.clip(y_pred, epsilon, 1 - epsilon)\n",
    "    return -np.sum(y_real * np.log(y_pred))\n",
    "\n",
    "# Example usage\n",
    "y_pred = np.array([0.7, 0.2, 0.1])\n",
    "y_real = np.array([1, 0, 0])\n",
    "\n",
    "error = cross_entropy(y_pred, y_real)\n",
    "print(\"Cross-Entropy:\", error)"
   ]
  },
  {
   "cell_type": "markdown",
   "id": "3f543028-7b28-4fb8-afa3-9a09f4038b98",
   "metadata": {},
   "source": [
    "# 3.3: Gradient Calculation for MSE and Cross-Entropy"
   ]
  },
  {
   "cell_type": "markdown",
   "id": "9a935580-0352-4417-85f2-cca1e9176b34",
   "metadata": {},
   "source": [
    "To optimize the network, we need to calculate the **gradient** of the error with respect to each prediction. This allows us to adjust the weights and biases to reduce the error.\n",
    "\n",
    "### MSE Gradient\n",
    "The derivative of MSE with respect to a prediction $$y_{\\text{pred}}$$ is:\n",
    "$$\n",
    "\\frac{\\partial \\, \\text{MSE}}{\\partial \\, y_{\\text{pred}}} = \\frac{2}{n} (y_{\\text{pred}} - y_{\\text{real}})\n",
    "$$\n",
    "\n",
    "### Cross-Entropy Gradient\n",
    "For cross-entropy, when using the **Softmax** function in the output layer, the gradient of the cross-entropy with respect to each prediction is simply the difference between the prediction and the actual value:\n",
    "$$\n",
    "\\frac{\\partial \\, \\text{Cross-Entropy}}{\\partial \\, y_{\\text{pred}}} = y_{\\text{pred}} - y_{\\text{real}}\n",
    "$$\n",
    "\n",
    "This is due to the way Softmax and Cross-Entropy interact, which simplifies the gradient calculation, making it very efficient in multiclass classification problems.\n",
    "\n",
    "### Gradient Implementation in Python:"
   ]
  },
  {
   "cell_type": "code",
   "execution_count": 4,
   "id": "d331945b-4d37-4b3c-8de5-b9f72205242a",
   "metadata": {},
   "outputs": [
    {
     "name": "stdout",
     "output_type": "stream",
     "text": [
      "Gradient of MSE: [-0.2         0.13333333  0.06666667]\n",
      "Gradient of Cross-Entropy: [-0.3  0.2  0.1]\n"
     ]
    }
   ],
   "source": [
    "# Gradient of MSE\n",
    "def gradient_mse(y_pred, y_real):\n",
    "    return 2 * (y_pred - y_real) / len(y_real)\n",
    "\n",
    "# Gradient of Cross-Entropy (when using Softmax)\n",
    "def gradient_cross_entropy(y_pred, y_real):\n",
    "    return y_pred - y_real\n",
    "\n",
    "# Example usage\n",
    "grad_mse = gradient_mse(y_pred, y_real)\n",
    "grad_cross_entropy = gradient_cross_entropy(y_pred, y_real)\n",
    "\n",
    "print(\"Gradient of MSE:\", grad_mse)\n",
    "print(\"Gradient of Cross-Entropy:\", grad_cross_entropy)"
   ]
  },
  {
   "cell_type": "markdown",
   "id": "19ebb816-4aed-4a2f-887f-009d94f55c99",
   "metadata": {},
   "source": [
    "# Practical Exercise: Add MSE and Cross-Entropy to the Neural Network"
   ]
  },
  {
   "cell_type": "markdown",
   "id": "4b15c9ab-cdd4-40c3-a08a-7e0e2b6780dd",
   "metadata": {},
   "source": [
    "**Objective:** Extend the neural network class we previously built to calculate error using **MSE** and **Cross-Entropy**, as well as the gradient of each error function.\n",
    "\n",
    "### Exercise Steps\n",
    "\n",
    "1. **Add Error Functions:**\n",
    "   - Define a function within the class to calculate **Mean Squared Error (MSE)**.\n",
    "   - Define another function within the class to calculate **Cross-Entropy**.\n",
    "\n",
    "2. **Calculate the Error Gradient:**\n",
    "   - Add a method to calculate the **gradient** of MSE.\n",
    "   - Add a method to calculate the **gradient** of Cross-Entropy, assuming the network uses **Softmax** in the output layer.\n",
    "\n",
    "3. **Evaluate the Neural Network:**\n",
    "   - Create a method that allows the use of both error functions and compares the results, using MSE for regression or continuous outputs, and Cross-Entropy for multiclass classification problems."
   ]
  },
  {
   "cell_type": "markdown",
   "id": "151fe572-50a2-43dd-8211-1250f8e21f26",
   "metadata": {},
   "source": [
    "### One-Hot Encoding of Labels\n",
    "\n",
    "**One-hot encoding** is a method that converts categorical labels (for example, the classes in a classification problem) into binary vectors. It is particularly useful in neural networks, as it converts each class label into a format that the network can easily interpret.\n",
    "\n",
    "#### How Does One-Hot Encoding Work?\n",
    "Imagine we have three classes in a classification problem:\n",
    "\n",
    "- Class 0\n",
    "- Class 1\n",
    "- Class 2\n",
    "\n",
    "Using one-hot encoding, each class is converted into a binary vector where only one element is 1 (indicating the class), and the rest are 0.\n",
    "\n",
    "For example:\n",
    "\n",
    "- Class 0: $[1, 0, 0]$\n",
    "- Class 1: $[0, 1, 0]$\n",
    "- Class 2: $[0, 0, 1]$\n",
    "\n",
    "This format allows neural networks to use **error functions** like **cross-entropy** to compare predictions (probabilities for each class) with the true class."
   ]
  },
  {
   "cell_type": "code",
   "execution_count": 5,
   "id": "69828544-1df8-4523-ace2-d9c4e507fe20",
   "metadata": {},
   "outputs": [
    {
     "name": "stdout",
     "output_type": "stream",
     "text": [
      "Accuracy: 1\n",
      "Network prediction (probabilities): [0.97384346 0.00231927 0.02383728]\n",
      "Actual label (one-hot encoded): [1. 0. 0.]\n",
      "Mean Squared Error (MSE): 0.0004192531262015088\n",
      "Cross-Entropy: 0.026504708469792967\n",
      "Gradient of MSE: [-0.01743769  0.00154618  0.01589152]\n",
      "Gradient of Cross-Entropy: [-0.02615654  0.00231927  0.02383728]\n",
      "Accuracy: 100\n"
     ]
    }
   ],
   "source": [
    "import numpy as np\n",
    "\n",
    "def relu(x):\n",
    "    return np.maximum(0, x)\n",
    "\n",
    "def softmax(x):\n",
    "    exp_values = np.exp(x - np.max(x)) \n",
    "    return exp_values / np.sum(exp_values)\n",
    "\n",
    "def one_hot_encode(label, num_classes):\n",
    "    one_hot = np.zeros(num_classes)\n",
    "    one_hot[label] = 1\n",
    "    return one_hot\n",
    "\n",
    "def accuracy(y_pred, y_real):\n",
    "    pred_class = np.argmax(y_pred)\n",
    "    true_class = np.argmax(y_real)\n",
    "    return 1 if pred_class == true_class else 0\n",
    "\n",
    "class NeuralNetworkWithErrors:\n",
    "    def __init__(self):\n",
    "        # Initialize weights and biases for each layer\n",
    "        self.weights_hidden = np.array([[0.1, 0.2], [0.3, 0.4], [0.5, 0.6]])  \n",
    "        self.bias_hidden = np.array([0.1, -0.1, 0.05])                       \n",
    "        self.weights_output = np.array([[0.7, 0.8, 0.9], [-0.1, -0.2, -0.3], [0.3, 0.2, 0.1]]) \n",
    "        self.bias_output = np.array([0.1, -0.1, 0.05])                       \n",
    "\n",
    "    def forward(self, input_data):\n",
    "        # Forward pass through the hidden layer\n",
    "        hidden_layer_input = np.dot(self.weights_hidden, input_data) + self.bias_hidden\n",
    "        hidden_layer_output = relu(hidden_layer_input)\n",
    "        \n",
    "        # Forward pass through the output layer with Softmax\n",
    "        output_layer_input = np.dot(self.weights_output, hidden_layer_output) + self.bias_output\n",
    "        output = softmax(output_layer_input)  # Final probabilities\n",
    "        \n",
    "        return output\n",
    "\n",
    "    def mse(self, y_pred, y_real):\n",
    "        return np.mean((y_pred - y_real) ** 2)\n",
    "\n",
    "    def cross_entropy(self, y_pred, y_real):\n",
    "        epsilon = 1e-15 \n",
    "        y_pred = np.clip(y_pred, epsilon, 1 - epsilon)\n",
    "        return -np.sum(y_real * np.log(y_pred))\n",
    "\n",
    "    def gradient_mse(self, y_pred, y_real):\n",
    "        return 2 * (y_pred - y_real) / len(y_real)\n",
    "\n",
    "    def gradient_cross_entropy(self, y_pred, y_real):\n",
    "        return y_pred - y_real\n",
    "\n",
    "y_pred = np.array([0.7, 0.2, 0.1])\n",
    "y_real = np.array([1, 0, 0])     \n",
    "acc = accuracy(y_pred, y_real)\n",
    "print(\"Accuracy:\", acc)\n",
    "\n",
    "network = NeuralNetworkWithErrors()\n",
    "\n",
    "input_data = np.array([2.0, 3.0])\n",
    "\n",
    "y_pred = network.forward(input_data)\n",
    "\n",
    "label = 0  # Correct class is class 0\n",
    "y_real = one_hot_encode(label, num_classes=3)\n",
    "\n",
    "# Calculate the error using MSE and Cross-Entropy\n",
    "error_mse = network.mse(y_pred, y_real)\n",
    "error_cross_entropy = network.cross_entropy(y_pred, y_real)\n",
    "\n",
    "# Calculate the gradients for each error function\n",
    "grad_mse = network.gradient_mse(y_pred, y_real)\n",
    "grad_cross_entropy = network.gradient_cross_entropy(y_pred, y_real)\n",
    "acc = accuracy(y_pred, y_real)\n",
    "\n",
    "print(\"Network prediction (probabilities):\", y_pred)\n",
    "print(\"Actual label (one-hot encoded):\", y_real)\n",
    "print(\"Mean Squared Error (MSE):\", error_mse)\n",
    "print(\"Cross-Entropy:\", error_cross_entropy)\n",
    "print(\"Gradient of MSE:\", grad_mse)\n",
    "print(\"Gradient of Cross-Entropy:\", grad_cross_entropy)\n",
    "print(\"Accuracy:\", acc * 100)"
   ]
  }
 ],
 "metadata": {
  "kernelspec": {
   "display_name": "Python 3",
   "language": "python",
   "name": "python3"
  },
  "language_info": {
   "codemirror_mode": {
    "name": "ipython",
    "version": 3
   },
   "file_extension": ".py",
   "mimetype": "text/x-python",
   "name": "python",
   "nbconvert_exporter": "python",
   "pygments_lexer": "ipython3",
   "version": "3.10.12"
  }
 },
 "nbformat": 4,
 "nbformat_minor": 5
}
